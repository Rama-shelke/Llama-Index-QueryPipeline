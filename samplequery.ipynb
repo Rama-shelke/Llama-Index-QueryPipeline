{
 "cells": [
  {
   "cell_type": "code",
   "execution_count": 1,
   "metadata": {},
   "outputs": [],
   "source": [
    "import pandas as pd\n",
    "import os\n",
    "pd.set_option('display.max_columns', None)\n",
    "pd.set_option('display.max_rows', None)\n",
    "h1b_data_path = os.path.join(\"data\", \"filtered_h1b_data.csv\")\n",
    "df = pd.read_csv(h1b_data_path)"
   ]
  },
  {
   "cell_type": "code",
   "execution_count": 3,
   "metadata": {},
   "outputs": [
    {
     "data": {
      "text/plain": [
       "nan"
      ]
     },
     "execution_count": 3,
     "metadata": {},
     "output_type": "execute_result"
    }
   ],
   "source": [
    "df[df['EMPLOYER_NAME'] == 'Deloitte']['PREVAILING_WAGE'].mean()"
   ]
  },
  {
   "cell_type": "code",
   "execution_count": 4,
   "metadata": {},
   "outputs": [
    {
     "data": {
      "text/plain": [
       "44159.93"
      ]
     },
     "execution_count": 4,
     "metadata": {},
     "output_type": "execute_result"
    }
   ],
   "source": [
    "df[df['JOB_TITLE'] == 'Data Analyst'].groupby('EMPLOYER_CITY')['PREVAILING_WAGE'].mean().get('Austin', 0)"
   ]
  }
 ],
 "metadata": {
  "kernelspec": {
   "display_name": "ipykernel3max",
   "language": "python",
   "name": "ipykernel3max"
  },
  "language_info": {
   "codemirror_mode": {
    "name": "ipython",
    "version": 3
   },
   "file_extension": ".py",
   "mimetype": "text/x-python",
   "name": "python",
   "nbconvert_exporter": "python",
   "pygments_lexer": "ipython3",
   "version": "3.8.3"
  }
 },
 "nbformat": 4,
 "nbformat_minor": 2
}
